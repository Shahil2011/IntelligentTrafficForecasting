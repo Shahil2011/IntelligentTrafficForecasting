{
 "cells": [
  {
   "cell_type": "markdown",
   "id": "9341e2af",
   "metadata": {},
   "source": [
    "## Imports"
   ]
  },
  {
   "cell_type": "code",
   "execution_count": null,
   "id": "c97a845c",
   "metadata": {},
   "outputs": [],
   "source": [
    "!pip install pmdarima"
   ]
  },
  {
   "cell_type": "code",
   "execution_count": 1,
   "id": "7b2953a0",
   "metadata": {},
   "outputs": [],
   "source": [
    "import pandas as pd\n",
    "from pandas.plotting import autocorrelation_plot\n",
    "from matplotlib import pyplot\n",
    "import numpy as np\n",
    "from statsmodels.tsa.stattools import adfuller\n",
    "from pmdarima import auto_arima\n",
    "import warnings\n",
    "from statsmodels.tsa.arima.model import ARIMA\n",
    "from sklearn.metrics import mean_squared_error\n",
    "from math import sqrt\n",
    "import glob\n",
    "import os"
   ]
  },
  {
   "cell_type": "markdown",
   "id": "9ca6becb",
   "metadata": {},
   "source": [
    "## Preprocessing Data"
   ]
  },
  {
   "cell_type": "code",
   "execution_count": null,
   "id": "32eed1be",
   "metadata": {},
   "outputs": [],
   "source": [
    "#df_big = pd.read_csv('../data_raw/sms-call-internet-mi-2013-11-01.txt',sep='\\t',header=None, usecols=[0, 1, 7], names=[\"SquareId\", \"TimeInterval\", \"InternetActivity\"])\n",
    "\n",
    "#joined_files = os.path.join(\"../data_raw\", \"sms-call-internet-mi-2013-11-*.txt\")\n",
    "#joined_list = glob.glob(joined_files)\n",
    "\n",
    "#dfs = []\n",
    "#for f in joined_list:\n",
    "#    dfs.append(pd.read_csv(f, sep='\\t',header=None, usecols=[0, 1, 7], names=[\"SquareId\", \"TimeInterval\", \"InternetActivity\"]))\n",
    "#    dfs[-1] = dfs[-1].dropna()\n",
    "#df_big = pd.concat(dfs, ignore_index=True)\n",
    "\n",
    "#names=['SquareId', 'TimeInterval', 'SmsIn', 'SmsOut', 'CallIn', 'callOut', 'InternetActivity', 'CountryCode']\n",
    "#df_big.columns = names\n",
    "#df_big = df_big.dropna()\n",
    "#print(len(df_big))\n",
    "#df_big.head(20)"
   ]
  },
  {
   "cell_type": "code",
   "execution_count": null,
   "id": "42ee6844",
   "metadata": {},
   "outputs": [],
   "source": [
    "#df = df_big[df_big['SquareId'] == 1]\n",
    "#df = df.sort_values(by='TimeInterval')\n",
    "#df = df.drop('SquareId', axis=1)\n",
    "#df = df.groupby('TimeInterval').sum()\n",
    "#df.set_index('TimeInterval', inplace=True)\n",
    "#print(df.shape)\n",
    "#df.head(20)\n",
    "#df.index = pd.to_datetime(df.index, unit='ms')"
   ]
  },
  {
   "cell_type": "markdown",
   "id": "cbb49ab2",
   "metadata": {},
   "source": [
    "## Read Pickle Data (Skip Preprocessing)"
   ]
  },
  {
   "cell_type": "code",
   "execution_count": 10,
   "id": "10d2ad31",
   "metadata": {},
   "outputs": [
    {
     "name": "stdout",
     "output_type": "stream",
     "text": [
      "(8928, 1)\n"
     ]
    },
    {
     "data": {
      "text/html": [
       "<div>\n",
       "<style scoped>\n",
       "    .dataframe tbody tr th:only-of-type {\n",
       "        vertical-align: middle;\n",
       "    }\n",
       "\n",
       "    .dataframe tbody tr th {\n",
       "        vertical-align: top;\n",
       "    }\n",
       "\n",
       "    .dataframe thead th {\n",
       "        text-align: right;\n",
       "    }\n",
       "</style>\n",
       "<table border=\"1\" class=\"dataframe\">\n",
       "  <thead>\n",
       "    <tr style=\"text-align: right;\">\n",
       "      <th></th>\n",
       "      <th>InternetActivity</th>\n",
       "    </tr>\n",
       "    <tr>\n",
       "      <th>TimeInterval</th>\n",
       "      <th></th>\n",
       "    </tr>\n",
       "  </thead>\n",
       "  <tbody>\n",
       "    <tr>\n",
       "      <th>2013-10-31 23:00:00</th>\n",
       "      <td>215.151102</td>\n",
       "    </tr>\n",
       "    <tr>\n",
       "      <th>2013-10-31 23:10:00</th>\n",
       "      <td>227.057513</td>\n",
       "    </tr>\n",
       "    <tr>\n",
       "      <th>2013-10-31 23:20:00</th>\n",
       "      <td>265.146854</td>\n",
       "    </tr>\n",
       "    <tr>\n",
       "      <th>2013-10-31 23:30:00</th>\n",
       "      <td>194.894117</td>\n",
       "    </tr>\n",
       "    <tr>\n",
       "      <th>2013-10-31 23:40:00</th>\n",
       "      <td>223.596072</td>\n",
       "    </tr>\n",
       "    <tr>\n",
       "      <th>2013-10-31 23:50:00</th>\n",
       "      <td>152.022171</td>\n",
       "    </tr>\n",
       "    <tr>\n",
       "      <th>2013-11-01 00:00:00</th>\n",
       "      <td>164.523412</td>\n",
       "    </tr>\n",
       "    <tr>\n",
       "      <th>2013-11-01 00:10:00</th>\n",
       "      <td>188.971398</td>\n",
       "    </tr>\n",
       "    <tr>\n",
       "      <th>2013-11-01 00:20:00</th>\n",
       "      <td>135.172256</td>\n",
       "    </tr>\n",
       "    <tr>\n",
       "      <th>2013-11-01 00:30:00</th>\n",
       "      <td>141.134066</td>\n",
       "    </tr>\n",
       "    <tr>\n",
       "      <th>2013-11-01 00:40:00</th>\n",
       "      <td>152.700262</td>\n",
       "    </tr>\n",
       "    <tr>\n",
       "      <th>2013-11-01 00:50:00</th>\n",
       "      <td>146.375540</td>\n",
       "    </tr>\n",
       "    <tr>\n",
       "      <th>2013-11-01 01:00:00</th>\n",
       "      <td>116.763693</td>\n",
       "    </tr>\n",
       "    <tr>\n",
       "      <th>2013-11-01 01:10:00</th>\n",
       "      <td>141.304328</td>\n",
       "    </tr>\n",
       "    <tr>\n",
       "      <th>2013-11-01 01:20:00</th>\n",
       "      <td>114.200952</td>\n",
       "    </tr>\n",
       "    <tr>\n",
       "      <th>2013-11-01 01:30:00</th>\n",
       "      <td>121.003222</td>\n",
       "    </tr>\n",
       "    <tr>\n",
       "      <th>2013-11-01 01:40:00</th>\n",
       "      <td>135.492751</td>\n",
       "    </tr>\n",
       "    <tr>\n",
       "      <th>2013-11-01 01:50:00</th>\n",
       "      <td>118.813775</td>\n",
       "    </tr>\n",
       "    <tr>\n",
       "      <th>2013-11-01 02:00:00</th>\n",
       "      <td>117.890517</td>\n",
       "    </tr>\n",
       "    <tr>\n",
       "      <th>2013-11-01 02:10:00</th>\n",
       "      <td>117.767267</td>\n",
       "    </tr>\n",
       "  </tbody>\n",
       "</table>\n",
       "</div>"
      ],
      "text/plain": [
       "                     InternetActivity\n",
       "TimeInterval                         \n",
       "2013-10-31 23:00:00        215.151102\n",
       "2013-10-31 23:10:00        227.057513\n",
       "2013-10-31 23:20:00        265.146854\n",
       "2013-10-31 23:30:00        194.894117\n",
       "2013-10-31 23:40:00        223.596072\n",
       "2013-10-31 23:50:00        152.022171\n",
       "2013-11-01 00:00:00        164.523412\n",
       "2013-11-01 00:10:00        188.971398\n",
       "2013-11-01 00:20:00        135.172256\n",
       "2013-11-01 00:30:00        141.134066\n",
       "2013-11-01 00:40:00        152.700262\n",
       "2013-11-01 00:50:00        146.375540\n",
       "2013-11-01 01:00:00        116.763693\n",
       "2013-11-01 01:10:00        141.304328\n",
       "2013-11-01 01:20:00        114.200952\n",
       "2013-11-01 01:30:00        121.003222\n",
       "2013-11-01 01:40:00        135.492751\n",
       "2013-11-01 01:50:00        118.813775\n",
       "2013-11-01 02:00:00        117.890517\n",
       "2013-11-01 02:10:00        117.767267"
      ]
     },
     "execution_count": 10,
     "metadata": {},
     "output_type": "execute_result"
    }
   ],
   "source": [
    "df = pd.read_pickle(\"../data_pickles/grid70_80_all.pkl\")\n",
    "print(df.shape)\n",
    "df.head(20)"
   ]
  },
  {
   "cell_type": "code",
   "execution_count": 11,
   "id": "95beb911",
   "metadata": {},
   "outputs": [],
   "source": [
    "# Trim Dataset by fraction\n",
    "frac = 0.5\n",
    "df = df.iloc[:int(df.size*frac)]"
   ]
  },
  {
   "cell_type": "code",
   "execution_count": 12,
   "id": "20de4b76",
   "metadata": {},
   "outputs": [
    {
     "data": {
      "image/png": "[encoded data removed]",
      "text/plain": [
       "<Figure size 864x360 with 1 Axes>"
      ]
     },
     "metadata": {
      "needs_background": "light"
     },
     "output_type": "display_data"
    }
   ],
   "source": [
    "df['InternetActivity'].plot(figsize=(12,5));"
   ]
  },
  {
   "cell_type": "markdown",
   "id": "1e4e27dc",
   "metadata": {},
   "source": [
    "## ARIMA Stationarity Test"
   ]
  },
  {
   "cell_type": "code",
   "execution_count": 13,
   "id": "ab43f5e8",
   "metadata": {},
   "outputs": [
    {
     "name": "stdout",
     "output_type": "stream",
     "text": [
      "1. ADF:  -4.340526660891503\n",
      "2. P-Value :  0.00037765559412823767\n",
      "3. Num Of Lags :  18\n",
      "4. Num of Observations Used for ADF Regression:  1097\n",
      "5. Critical Values :\n",
      "\t 1% :  -3.436325084538422\n",
      "\t 5% :  -2.8641782797532214\n",
      "\t 10% :  -2.5681747043025274\n"
     ]
    }
   ],
   "source": [
    "def adf_test(dataset):\n",
    "    dftest = adfuller(dataset, autolag = 'AIC')\n",
    "    print(\"1. ADF: \", dftest[0])\n",
    "    print(\"2. P-Value : \", dftest[1])\n",
    "    print(\"3. Num Of Lags : \", dftest[2])\n",
    "    print(\"4. Num of Observations Used for ADF Regression: \", dftest[3])\n",
    "    print(\"5. Critical Values :\")\n",
    "    for key, val in dftest[4].items():\n",
    "        print(\"\\t\",key, \": \", val)\n",
    "    \n",
    "adf_test(df['InternetActivity'])"
   ]
  },
  {
   "cell_type": "code",
   "execution_count": 14,
   "id": "08b76fd6",
   "metadata": {},
   "outputs": [
    {
     "name": "stdout",
     "output_type": "stream",
     "text": [
      "Performing stepwise search to minimize aic\n",
      " ARIMA(2,1,2)(0,0,0)[0] intercept   : AIC=12197.981, Time=0.53 sec\n",
      " ARIMA(0,1,0)(0,0,0)[0] intercept   : AIC=12483.982, Time=0.02 sec\n",
      " ARIMA(1,1,0)(0,0,0)[0] intercept   : AIC=12321.804, Time=0.06 sec\n",
      " ARIMA(0,1,1)(0,0,0)[0] intercept   : AIC=12202.813, Time=0.15 sec\n",
      " ARIMA(0,1,0)(0,0,0)[0]             : AIC=12481.982, Time=0.02 sec\n",
      " ARIMA(1,1,2)(0,0,0)[0] intercept   : AIC=12197.109, Time=0.20 sec\n",
      " ARIMA(0,1,2)(0,0,0)[0] intercept   : AIC=12196.257, Time=0.17 sec\n",
      " ARIMA(0,1,3)(0,0,0)[0] intercept   : AIC=12196.832, Time=0.33 sec\n",
      " ARIMA(1,1,1)(0,0,0)[0] intercept   : AIC=12197.343, Time=0.25 sec\n",
      " ARIMA(1,1,3)(0,0,0)[0] intercept   : AIC=12198.125, Time=0.41 sec\n",
      " ARIMA(0,1,2)(0,0,0)[0]             : AIC=12194.261, Time=0.05 sec\n",
      " ARIMA(0,1,1)(0,0,0)[0]             : AIC=12200.815, Time=0.06 sec\n",
      " ARIMA(1,1,2)(0,0,0)[0]             : AIC=12195.110, Time=0.10 sec\n",
      " ARIMA(0,1,3)(0,0,0)[0]             : AIC=12194.835, Time=0.13 sec\n",
      " ARIMA(1,1,1)(0,0,0)[0]             : AIC=12195.346, Time=0.09 sec\n",
      " ARIMA(1,1,3)(0,0,0)[0]             : AIC=12196.127, Time=0.15 sec\n",
      "\n",
      "Best model:  ARIMA(0,1,2)(0,0,0)[0]          \n",
      "Total fit time: 2.721 seconds\n"
     ]
    }
   ],
   "source": [
    "stepwise_fit = auto_arima(df['InternetActivity'], trace=True, suppress_warnings=True)"
   ]
  },
  {
   "cell_type": "markdown",
   "id": "ba33ff7b",
   "metadata": {},
   "source": [
    "## Training"
   ]
  },
  {
   "cell_type": "code",
   "execution_count": null,
   "id": "4cecb40b",
   "metadata": {},
   "outputs": [],
   "source": [
    "#print(df.shape)\n",
    "#train = df.iloc[:-30]\n",
    "#test = df.iloc[-30:]\n",
    "#print(train.shape, test.shape)\n",
    "#print(test.iloc[0], test.iloc[-1])"
   ]
  },
  {
   "cell_type": "code",
   "execution_count": null,
   "id": "ca01bfe6",
   "metadata": {},
   "outputs": [],
   "source": [
    "#model = ARIMA(train['InternetActivity'], order=(4,1,1))\n",
    "#model_fit = model.fit()\n",
    "#model_fit.summary()"
   ]
  },
  {
   "cell_type": "markdown",
   "id": "4223bd79",
   "metadata": {},
   "source": [
    "## Making predictions"
   ]
  },
  {
   "cell_type": "code",
   "execution_count": null,
   "id": "54475096",
   "metadata": {},
   "outputs": [],
   "source": [
    "#start = len(train)\n",
    "#end = len(train) + len(test) -1\n",
    "#pred = model_fit.predict(start = start, end = end, typ = 'levels').rename('ARIMA Predictions')\n",
    "#pred.plot(legend=True)\n",
    "#test['InternetActivity'].plot(legend=True)"
   ]
  },
  {
   "cell_type": "code",
   "execution_count": null,
   "id": "a75955f3",
   "metadata": {},
   "outputs": [],
   "source": [
    "autocorrelation_plot(df)"
   ]
  },
  {
   "cell_type": "code",
   "execution_count": 15,
   "id": "df05bb63",
   "metadata": {
    "scrolled": false
   },
   "outputs": [
    {
     "data": {
      "image/png": "[encoded data removed]",
      "text/plain": [
       "<Figure size 432x288 with 1 Axes>"
      ]
     },
     "metadata": {
      "needs_background": "light"
     },
     "output_type": "display_data"
    }
   ],
   "source": [
    "X = df.values\n",
    "size = int(len(X)*0.8)\n",
    "\n",
    "train, test = X[0:size], X[size:len(X)]\n",
    "history = [x for x in train]\n",
    "predictions = list()\n",
    "\n",
    "for t in range(len(test)):\n",
    "    # Use the AutoArima function above to determine order\n",
    "    model = ARIMA(history, order=(0,1,2))\n",
    "    model_fit = model.fit()\n",
    "    output = model_fit.forecast()\n",
    "    yhat = output[0]\n",
    "    predictions.append(yhat)\n",
    "    observations = test[t]\n",
    "    history.append(observations)\n",
    "    \n",
    "pyplot.plot(test)\n",
    "pyplot.plot(predictions, color='red')\n",
    "pyplot.show()"
   ]
  },
  {
   "cell_type": "code",
   "execution_count": 16,
   "id": "63b9fec2",
   "metadata": {},
   "outputs": [
    {
     "name": "stdout",
     "output_type": "stream",
     "text": [
      "77.86623193856339\n"
     ]
    }
   ],
   "source": [
    "rmse = sqrt( mean_squared_error(predictions, test))\n",
    "print(rmse)"
   ]
  },
  {
   "cell_type": "markdown",
   "id": "c6b8202c",
   "metadata": {},
   "source": [
    "## Save data to folder for results comparison"
   ]
  },
  {
   "cell_type": "code",
   "execution_count": 17,
   "id": "198382a6",
   "metadata": {},
   "outputs": [],
   "source": [
    "# Convert to numpy array\n",
    "arr = np.array(predictions)\n",
    "\n",
    "# Change name to describe experiment: ARIMA_<data_length[100,50,12]>_<grid_x>_<grid_y>_<order>\n",
    "# ----------------------------------------\n",
    "filename = \"ARIMA_12_50_50_012.npy\"\n",
    "# ----------------------------------------\n",
    "\n",
    "folder_name = \"../results/ARIMA\"\n",
    "f = os.path.join(folder_name, filename)\n",
    "np.save(f, arr)"
   ]
  },
  {
   "cell_type": "markdown",
   "id": "410c7f43",
   "metadata": {},
   "source": [
    "## Loading a npy file (for reference)"
   ]
  },
  {
   "cell_type": "code",
   "execution_count": null,
   "id": "7021b65b",
   "metadata": {},
   "outputs": [],
   "source": [
    "data = np.load(f)"
   ]
  },
  {
   "cell_type": "code",
   "execution_count": null,
   "id": "f4f41b3b",
   "metadata": {},
   "outputs": [],
   "source": [
    "# To validate\n",
    "pyplot.plot(test)\n",
    "pyplot.plot(data, color='red')\n",
    "pyplot.show()"
   ]
  },
  {
   "cell_type": "code",
   "execution_count": null,
   "id": "451340cb",
   "metadata": {},
   "outputs": [],
   "source": [
    "rmse = sqrt( mean_squared_error(data, test))\n",
    "print(rmse)"
   ]
  },
  {
   "cell_type": "markdown",
   "id": "e7798163",
   "metadata": {},
   "source": [
    "Looks good!"
   ]
  }
 ],
 "metadata": {
  "kernelspec": {
   "display_name": "Python 3 (ipykernel)",
   "language": "python",
   "name": "python3"
  },
  "language_info": {
   "codemirror_mode": {
    "name": "ipython",
    "version": 3
   },
   "file_extension": ".py",
   "mimetype": "text/x-python",
   "name": "python",
   "nbconvert_exporter": "python",
   "pygments_lexer": "ipython3",
   "version": "3.8.8"
  }
 },
 "nbformat": 4,
 "nbformat_minor": 5
}
