{
 "cells": [
  {
   "cell_type": "markdown",
   "id": "51f18523",
   "metadata": {},
   "source": [
    "## Imports"
   ]
  },
  {
   "cell_type": "code",
   "execution_count": 1,
   "id": "f0ded9e4",
   "metadata": {},
   "outputs": [],
   "source": [
    "import pandas as pd\n",
    "import numpy as np\n",
    "import matplotlib.pyplot as plt\n",
    "import warnings\n",
    "from sklearn.metrics import mean_squared_error\n",
    "from math import sqrt\n",
    "import glob\n",
    "import os\n",
    "from sklearn.preprocessing import MinMaxScaler\n",
    "from sklearn.preprocessing import RobustScaler\n",
    "from tensorflow.keras.models import Sequential\n",
    "from tensorflow.keras.layers import Dense\n",
    "from tensorflow.keras.layers import LSTM\n",
    "from sklearn.model_selection import train_test_split\n",
    "from pandas.plotting import register_matplotlib_converters\n",
    "from tensorflow import keras"
   ]
  },
  {
   "cell_type": "markdown",
   "id": "28403aa8",
   "metadata": {},
   "source": [
    "## Spatial utility functions"
   ]
  },
  {
   "cell_type": "code",
   "execution_count": 2,
   "id": "248e70a2",
   "metadata": {},
   "outputs": [],
   "source": [
    "# Returns 2D grid location of a SquareId value\n",
    "# Note: Returns (row, col) NOT (x,y)\n",
    "def get_grid_location(grid_id):\n",
    "    \n",
    "    num_rows = 100\n",
    "    num_cols = 100\n",
    "    grid_index = grid_id - 1 #grid id is not 0-indexed\n",
    "    row_loc = num_rows - 1 - grid_index // num_rows\n",
    "    col_loc = grid_index % num_rows\n",
    "    \n",
    "    return row_loc, col_loc\n",
    "\n",
    "#get_grid_location(9999)"
   ]
  },
  {
   "cell_type": "code",
   "execution_count": 3,
   "id": "ca1ea3f7",
   "metadata": {},
   "outputs": [],
   "source": [
    "# Returns index value of grid based on (row, col) numbers specified\n",
    "def get_grid_id(row_loc, col_loc):\n",
    "    \n",
    "    num_rows = 100\n",
    "    num_cols = 100\n",
    "    return (num_rows - row_loc - 1)*100 + col_loc + 1\n",
    "    \n",
    "#get_grid_id(0,98)"
   ]
  },
  {
   "cell_type": "code",
   "execution_count": 4,
   "id": "439fe465",
   "metadata": {},
   "outputs": [],
   "source": [
    "# Return a list of grid index values based on a radius (default 1) around center index value\n",
    "def get_neighbours(grid_id, radius=1):\n",
    "    grid_row, grid_col = get_grid_location(grid_id)\n",
    "    neighbours = []\n",
    "    for row in range(-radius+grid_row, radius+1+grid_row):\n",
    "        for col in range(-radius+grid_col, radius+1+grid_col):\n",
    "            val = get_grid_id(row, col)\n",
    "            # Restrict neighbours to bounds of data\n",
    "            if val > 0 and val < 10001:\n",
    "                neighbours.append(get_grid_id(row,col))\n",
    "    \n",
    "    return neighbours"
   ]
  },
  {
   "cell_type": "code",
   "execution_count": 5,
   "id": "8a272ebc",
   "metadata": {},
   "outputs": [],
   "source": [
    "#print(get_neighbours(9899,2))"
   ]
  },
  {
   "cell_type": "markdown",
   "id": "8abf86ce",
   "metadata": {},
   "source": [
    "## Reading data from pickle"
   ]
  },
  {
   "cell_type": "code",
   "execution_count": 6,
   "id": "82eef949",
   "metadata": {},
   "outputs": [
    {
     "name": "stdout",
     "output_type": "stream",
     "text": [
      "(160681352, 3)\n"
     ]
    },
    {
     "data": {
      "text/html": [
       "<div>\n",
       "<style scoped>\n",
       "    .dataframe tbody tr th:only-of-type {\n",
       "        vertical-align: middle;\n",
       "    }\n",
       "\n",
       "    .dataframe tbody tr th {\n",
       "        vertical-align: top;\n",
       "    }\n",
       "\n",
       "    .dataframe thead th {\n",
       "        text-align: right;\n",
       "    }\n",
       "</style>\n",
       "<table border=\"1\" class=\"dataframe\">\n",
       "  <thead>\n",
       "    <tr style=\"text-align: right;\">\n",
       "      <th></th>\n",
       "      <th>SquareId</th>\n",
       "      <th>TimeInterval</th>\n",
       "      <th>InternetActivity</th>\n",
       "    </tr>\n",
       "  </thead>\n",
       "  <tbody>\n",
       "    <tr>\n",
       "      <th>0</th>\n",
       "      <td>1</td>\n",
       "      <td>1383260400000</td>\n",
       "      <td>11.028366</td>\n",
       "    </tr>\n",
       "    <tr>\n",
       "      <th>1</th>\n",
       "      <td>1</td>\n",
       "      <td>1383261000000</td>\n",
       "      <td>0.026137</td>\n",
       "    </tr>\n",
       "    <tr>\n",
       "      <th>2</th>\n",
       "      <td>1</td>\n",
       "      <td>1383261000000</td>\n",
       "      <td>11.100963</td>\n",
       "    </tr>\n",
       "    <tr>\n",
       "      <th>3</th>\n",
       "      <td>1</td>\n",
       "      <td>1383261600000</td>\n",
       "      <td>10.892771</td>\n",
       "    </tr>\n",
       "    <tr>\n",
       "      <th>4</th>\n",
       "      <td>1</td>\n",
       "      <td>1383262200000</td>\n",
       "      <td>8.622425</td>\n",
       "    </tr>\n",
       "  </tbody>\n",
       "</table>\n",
       "</div>"
      ],
      "text/plain": [
       "   SquareId   TimeInterval  InternetActivity\n",
       "0         1  1383260400000         11.028366\n",
       "1         1  1383261000000          0.026137\n",
       "2         1  1383261000000         11.100963\n",
       "3         1  1383261600000         10.892771\n",
       "4         1  1383262200000          8.622425"
      ]
     },
     "execution_count": 6,
     "metadata": {},
     "output_type": "execute_result"
    }
   ],
   "source": [
    "df_big = pd.read_pickle(\"../data_pickles/all.pkl\")\n",
    "print(df_big.shape)\n",
    "df_big.head()"
   ]
  },
  {
   "cell_type": "markdown",
   "id": "e2d34fd5",
   "metadata": {},
   "source": [
    "## Preprocess Data"
   ]
  },
  {
   "cell_type": "code",
   "execution_count": 7,
   "id": "213ff870",
   "metadata": {},
   "outputs": [],
   "source": [
    "#df = df_big[df_big['SquareId'] == 1]\n",
    "#df = df.sort_values(by='TimeInterval')\n",
    "#df = df.drop('SquareId', axis=1)\n",
    "#df = df.groupby('TimeInterval').sum()\n",
    "#df.set_index('TimeInterval', inplace=True)\n",
    "#df.index = pd.to_datetime(df.index, unit='ms')\n",
    "\n",
    "# ----EXPERIMENT VARIABLES----------------------------------------------------\n",
    "grid_main = get_grid_id(50,50)\n",
    "radius = 3\n",
    "# ----------------------------------------------------------------------------\n",
    "\n",
    "grid_neighbours = get_neighbours(grid_main, radius)\n",
    "\n",
    "df = df_big[df_big['SquareId'].isin(grid_neighbours)]\n",
    "#print(grid_neighbours)"
   ]
  },
  {
   "cell_type": "code",
   "execution_count": 8,
   "id": "2c19ef05",
   "metadata": {},
   "outputs": [
    {
     "data": {
      "text/plain": [
       "2722233"
      ]
     },
     "execution_count": 8,
     "metadata": {},
     "output_type": "execute_result"
    }
   ],
   "source": [
    "df.size"
   ]
  },
  {
   "cell_type": "code",
   "execution_count": 9,
   "id": "86553e39",
   "metadata": {},
   "outputs": [],
   "source": [
    "df = df.set_index('TimeInterval')\n",
    "df.index = pd.to_datetime(df.index, unit='ms')"
   ]
  },
  {
   "cell_type": "code",
   "execution_count": 10,
   "id": "bba9f34b",
   "metadata": {},
   "outputs": [],
   "source": [
    "df = df.dropna()\n",
    "df = df.groupby([df.index, 'SquareId']).sum()"
   ]
  },
  {
   "cell_type": "code",
   "execution_count": 11,
   "id": "8f58985a",
   "metadata": {},
   "outputs": [
    {
     "data": {
      "text/html": [
       "<div>\n",
       "<style scoped>\n",
       "    .dataframe tbody tr th:only-of-type {\n",
       "        vertical-align: middle;\n",
       "    }\n",
       "\n",
       "    .dataframe tbody tr th {\n",
       "        vertical-align: top;\n",
       "    }\n",
       "\n",
       "    .dataframe thead th {\n",
       "        text-align: right;\n",
       "    }\n",
       "</style>\n",
       "<table border=\"1\" class=\"dataframe\">\n",
       "  <thead>\n",
       "    <tr style=\"text-align: right;\">\n",
       "      <th></th>\n",
       "      <th></th>\n",
       "      <th>InternetActivity</th>\n",
       "    </tr>\n",
       "    <tr>\n",
       "      <th>TimeInterval</th>\n",
       "      <th>SquareId</th>\n",
       "      <th></th>\n",
       "    </tr>\n",
       "  </thead>\n",
       "  <tbody>\n",
       "    <tr>\n",
       "      <th rowspan=\"5\" valign=\"top\">2013-10-31 23:00:00</th>\n",
       "      <th>4648</th>\n",
       "      <td>644.778962</td>\n",
       "    </tr>\n",
       "    <tr>\n",
       "      <th>4649</th>\n",
       "      <td>253.072512</td>\n",
       "    </tr>\n",
       "    <tr>\n",
       "      <th>4650</th>\n",
       "      <td>275.826982</td>\n",
       "    </tr>\n",
       "    <tr>\n",
       "      <th>4651</th>\n",
       "      <td>297.583321</td>\n",
       "    </tr>\n",
       "    <tr>\n",
       "      <th>4652</th>\n",
       "      <td>536.617483</td>\n",
       "    </tr>\n",
       "  </tbody>\n",
       "</table>\n",
       "</div>"
      ],
      "text/plain": [
       "                              InternetActivity\n",
       "TimeInterval        SquareId                  \n",
       "2013-10-31 23:00:00 4648            644.778962\n",
       "                    4649            253.072512\n",
       "                    4650            275.826982\n",
       "                    4651            297.583321\n",
       "                    4652            536.617483"
      ]
     },
     "execution_count": 11,
     "metadata": {},
     "output_type": "execute_result"
    }
   ],
   "source": [
    "df.head()"
   ]
  },
  {
   "cell_type": "code",
   "execution_count": 12,
   "id": "307570a5",
   "metadata": {},
   "outputs": [
    {
     "data": {
      "text/plain": [
       "MultiIndex([('2013-10-31 23:00:00', 4648),\n",
       "            ('2013-10-31 23:00:00', 4649),\n",
       "            ('2013-10-31 23:00:00', 4650),\n",
       "            ('2013-10-31 23:00:00', 4651),\n",
       "            ('2013-10-31 23:00:00', 4652),\n",
       "            ('2013-10-31 23:00:00', 4653),\n",
       "            ('2013-10-31 23:00:00', 4654),\n",
       "            ('2013-10-31 23:00:00', 4748),\n",
       "            ('2013-10-31 23:00:00', 4749),\n",
       "            ('2013-10-31 23:00:00', 4750),\n",
       "            ...\n",
       "            ('2014-01-01 22:50:00', 5152),\n",
       "            ('2014-01-01 22:50:00', 5153),\n",
       "            ('2014-01-01 22:50:00', 5154),\n",
       "            ('2014-01-01 22:50:00', 5248),\n",
       "            ('2014-01-01 22:50:00', 5249),\n",
       "            ('2014-01-01 22:50:00', 5250),\n",
       "            ('2014-01-01 22:50:00', 5251),\n",
       "            ('2014-01-01 22:50:00', 5252),\n",
       "            ('2014-01-01 22:50:00', 5253),\n",
       "            ('2014-01-01 22:50:00', 5254)],\n",
       "           names=['TimeInterval', 'SquareId'], length=437472)"
      ]
     },
     "execution_count": 12,
     "metadata": {},
     "output_type": "execute_result"
    }
   ],
   "source": [
    "df.index"
   ]
  },
  {
   "cell_type": "code",
   "execution_count": 13,
   "id": "cc069ac4",
   "metadata": {},
   "outputs": [],
   "source": [
    "df = df.unstack(level=-1).InternetActivity.rename_axis([None], axis=1)"
   ]
  },
  {
   "cell_type": "code",
   "execution_count": 14,
   "id": "4ce51121",
   "metadata": {},
   "outputs": [],
   "source": [
    "# Will have to monitor this to make sure it's not too invasive. Otherwise, change to moving average or drop entirely\n",
    "df = df.fillna(0)"
   ]
  },
  {
   "cell_type": "code",
   "execution_count": 15,
   "id": "7a7fffbc",
   "metadata": {},
   "outputs": [
    {
     "name": "stdout",
     "output_type": "stream",
     "text": [
      "(8928, 49)\n"
     ]
    },
    {
     "data": {
      "text/html": [
       "<div>\n",
       "<style scoped>\n",
       "    .dataframe tbody tr th:only-of-type {\n",
       "        vertical-align: middle;\n",
       "    }\n",
       "\n",
       "    .dataframe tbody tr th {\n",
       "        vertical-align: top;\n",
       "    }\n",
       "\n",
       "    .dataframe thead th {\n",
       "        text-align: right;\n",
       "    }\n",
       "</style>\n",
       "<table border=\"1\" class=\"dataframe\">\n",
       "  <thead>\n",
       "    <tr style=\"text-align: right;\">\n",
       "      <th></th>\n",
       "      <th>4648</th>\n",
       "      <th>4649</th>\n",
       "      <th>4650</th>\n",
       "      <th>4651</th>\n",
       "      <th>4652</th>\n",
       "      <th>4653</th>\n",
       "      <th>4654</th>\n",
       "      <th>4748</th>\n",
       "      <th>4749</th>\n",
       "      <th>4750</th>\n",
       "      <th>...</th>\n",
       "      <th>5152</th>\n",
       "      <th>5153</th>\n",
       "      <th>5154</th>\n",
       "      <th>5248</th>\n",
       "      <th>5249</th>\n",
       "      <th>5250</th>\n",
       "      <th>5251</th>\n",
       "      <th>5252</th>\n",
       "      <th>5253</th>\n",
       "      <th>5254</th>\n",
       "    </tr>\n",
       "    <tr>\n",
       "      <th>TimeInterval</th>\n",
       "      <th></th>\n",
       "      <th></th>\n",
       "      <th></th>\n",
       "      <th></th>\n",
       "      <th></th>\n",
       "      <th></th>\n",
       "      <th></th>\n",
       "      <th></th>\n",
       "      <th></th>\n",
       "      <th></th>\n",
       "      <th></th>\n",
       "      <th></th>\n",
       "      <th></th>\n",
       "      <th></th>\n",
       "      <th></th>\n",
       "      <th></th>\n",
       "      <th></th>\n",
       "      <th></th>\n",
       "      <th></th>\n",
       "      <th></th>\n",
       "      <th></th>\n",
       "    </tr>\n",
       "  </thead>\n",
       "  <tbody>\n",
       "    <tr>\n",
       "      <th>2013-10-31 23:00:00</th>\n",
       "      <td>644.778962</td>\n",
       "      <td>253.072512</td>\n",
       "      <td>275.826982</td>\n",
       "      <td>297.583321</td>\n",
       "      <td>536.617483</td>\n",
       "      <td>1156.694662</td>\n",
       "      <td>1147.505779</td>\n",
       "      <td>414.876923</td>\n",
       "      <td>256.287502</td>\n",
       "      <td>272.475078</td>\n",
       "      <td>...</td>\n",
       "      <td>298.926459</td>\n",
       "      <td>153.464845</td>\n",
       "      <td>304.445966</td>\n",
       "      <td>472.703826</td>\n",
       "      <td>356.285992</td>\n",
       "      <td>244.134503</td>\n",
       "      <td>381.262867</td>\n",
       "      <td>406.025007</td>\n",
       "      <td>184.048503</td>\n",
       "      <td>402.936741</td>\n",
       "    </tr>\n",
       "    <tr>\n",
       "      <th>2013-10-31 23:10:00</th>\n",
       "      <td>577.912685</td>\n",
       "      <td>324.742879</td>\n",
       "      <td>293.180136</td>\n",
       "      <td>301.641776</td>\n",
       "      <td>560.246538</td>\n",
       "      <td>1487.404156</td>\n",
       "      <td>1403.609215</td>\n",
       "      <td>446.253356</td>\n",
       "      <td>279.470463</td>\n",
       "      <td>307.053736</td>\n",
       "      <td>...</td>\n",
       "      <td>311.356217</td>\n",
       "      <td>190.027136</td>\n",
       "      <td>295.268132</td>\n",
       "      <td>586.003432</td>\n",
       "      <td>407.460958</td>\n",
       "      <td>271.165748</td>\n",
       "      <td>570.305667</td>\n",
       "      <td>520.382058</td>\n",
       "      <td>267.357886</td>\n",
       "      <td>353.586029</td>\n",
       "    </tr>\n",
       "    <tr>\n",
       "      <th>2013-10-31 23:20:00</th>\n",
       "      <td>575.811594</td>\n",
       "      <td>294.142420</td>\n",
       "      <td>323.099448</td>\n",
       "      <td>337.930668</td>\n",
       "      <td>474.555900</td>\n",
       "      <td>1375.521240</td>\n",
       "      <td>1451.909811</td>\n",
       "      <td>378.101031</td>\n",
       "      <td>262.692168</td>\n",
       "      <td>308.896134</td>\n",
       "      <td>...</td>\n",
       "      <td>252.522845</td>\n",
       "      <td>203.946089</td>\n",
       "      <td>312.732472</td>\n",
       "      <td>442.849629</td>\n",
       "      <td>316.653295</td>\n",
       "      <td>210.414555</td>\n",
       "      <td>325.376368</td>\n",
       "      <td>410.448708</td>\n",
       "      <td>231.019347</td>\n",
       "      <td>343.952379</td>\n",
       "    </tr>\n",
       "    <tr>\n",
       "      <th>2013-10-31 23:30:00</th>\n",
       "      <td>583.582016</td>\n",
       "      <td>307.347131</td>\n",
       "      <td>418.112961</td>\n",
       "      <td>405.118904</td>\n",
       "      <td>459.844936</td>\n",
       "      <td>1120.268964</td>\n",
       "      <td>1231.776524</td>\n",
       "      <td>393.740448</td>\n",
       "      <td>271.892114</td>\n",
       "      <td>343.606945</td>\n",
       "      <td>...</td>\n",
       "      <td>241.656499</td>\n",
       "      <td>143.331119</td>\n",
       "      <td>253.809039</td>\n",
       "      <td>387.012007</td>\n",
       "      <td>284.961169</td>\n",
       "      <td>178.877061</td>\n",
       "      <td>335.179832</td>\n",
       "      <td>349.809917</td>\n",
       "      <td>164.163324</td>\n",
       "      <td>306.322764</td>\n",
       "    </tr>\n",
       "    <tr>\n",
       "      <th>2013-10-31 23:40:00</th>\n",
       "      <td>586.796030</td>\n",
       "      <td>405.303056</td>\n",
       "      <td>365.943627</td>\n",
       "      <td>392.464672</td>\n",
       "      <td>563.772111</td>\n",
       "      <td>1113.797079</td>\n",
       "      <td>1220.652731</td>\n",
       "      <td>438.869139</td>\n",
       "      <td>282.936935</td>\n",
       "      <td>326.669241</td>\n",
       "      <td>...</td>\n",
       "      <td>393.834019</td>\n",
       "      <td>163.466418</td>\n",
       "      <td>227.548384</td>\n",
       "      <td>338.372897</td>\n",
       "      <td>244.485651</td>\n",
       "      <td>162.327466</td>\n",
       "      <td>296.364824</td>\n",
       "      <td>384.526408</td>\n",
       "      <td>173.801591</td>\n",
       "      <td>300.368497</td>\n",
       "    </tr>\n",
       "  </tbody>\n",
       "</table>\n",
       "<p>5 rows × 49 columns</p>\n",
       "</div>"
      ],
      "text/plain": [
       "                           4648        4649        4650        4651  \\\n",
       "TimeInterval                                                          \n",
       "2013-10-31 23:00:00  644.778962  253.072512  275.826982  297.583321   \n",
       "2013-10-31 23:10:00  577.912685  324.742879  293.180136  301.641776   \n",
       "2013-10-31 23:20:00  575.811594  294.142420  323.099448  337.930668   \n",
       "2013-10-31 23:30:00  583.582016  307.347131  418.112961  405.118904   \n",
       "2013-10-31 23:40:00  586.796030  405.303056  365.943627  392.464672   \n",
       "\n",
       "                           4652         4653         4654        4748  \\\n",
       "TimeInterval                                                            \n",
       "2013-10-31 23:00:00  536.617483  1156.694662  1147.505779  414.876923   \n",
       "2013-10-31 23:10:00  560.246538  1487.404156  1403.609215  446.253356   \n",
       "2013-10-31 23:20:00  474.555900  1375.521240  1451.909811  378.101031   \n",
       "2013-10-31 23:30:00  459.844936  1120.268964  1231.776524  393.740448   \n",
       "2013-10-31 23:40:00  563.772111  1113.797079  1220.652731  438.869139   \n",
       "\n",
       "                           4749        4750  ...        5152        5153  \\\n",
       "TimeInterval                                 ...                           \n",
       "2013-10-31 23:00:00  256.287502  272.475078  ...  298.926459  153.464845   \n",
       "2013-10-31 23:10:00  279.470463  307.053736  ...  311.356217  190.027136   \n",
       "2013-10-31 23:20:00  262.692168  308.896134  ...  252.522845  203.946089   \n",
       "2013-10-31 23:30:00  271.892114  343.606945  ...  241.656499  143.331119   \n",
       "2013-10-31 23:40:00  282.936935  326.669241  ...  393.834019  163.466418   \n",
       "\n",
       "                           5154        5248        5249        5250  \\\n",
       "TimeInterval                                                          \n",
       "2013-10-31 23:00:00  304.445966  472.703826  356.285992  244.134503   \n",
       "2013-10-31 23:10:00  295.268132  586.003432  407.460958  271.165748   \n",
       "2013-10-31 23:20:00  312.732472  442.849629  316.653295  210.414555   \n",
       "2013-10-31 23:30:00  253.809039  387.012007  284.961169  178.877061   \n",
       "2013-10-31 23:40:00  227.548384  338.372897  244.485651  162.327466   \n",
       "\n",
       "                           5251        5252        5253        5254  \n",
       "TimeInterval                                                         \n",
       "2013-10-31 23:00:00  381.262867  406.025007  184.048503  402.936741  \n",
       "2013-10-31 23:10:00  570.305667  520.382058  267.357886  353.586029  \n",
       "2013-10-31 23:20:00  325.376368  410.448708  231.019347  343.952379  \n",
       "2013-10-31 23:30:00  335.179832  349.809917  164.163324  306.322764  \n",
       "2013-10-31 23:40:00  296.364824  384.526408  173.801591  300.368497  \n",
       "\n",
       "[5 rows x 49 columns]"
      ]
     },
     "execution_count": 15,
     "metadata": {},
     "output_type": "execute_result"
    }
   ],
   "source": [
    "print(df.shape)\n",
    "df.head()"
   ]
  },
  {
   "cell_type": "code",
   "execution_count": 16,
   "id": "c79b324a",
   "metadata": {},
   "outputs": [],
   "source": [
    "# Trim Dataset by fraction ------------------------------------------------------------\n",
    "frac = 0.125\n",
    "# -------------------------------------------------------------------------------------\n",
    "df = df.iloc[:int(df.shape[0]*frac)]"
   ]
  },
  {
   "cell_type": "code",
   "execution_count": 17,
   "id": "209f045b",
   "metadata": {},
   "outputs": [
    {
     "data": {
      "text/plain": [
       "<AxesSubplot:xlabel='TimeInterval'>"
      ]
     },
     "execution_count": 17,
     "metadata": {},
     "output_type": "execute_result"
    },
    {
     "data": {
      "image/png": "[encoded data removed]",
      "text/plain": [
       "<Figure size 864x360 with 1 Axes>"
      ]
     },
     "metadata": {
      "needs_background": "light"
     },
     "output_type": "display_data"
    }
   ],
   "source": [
    "df[grid_main].plot(figsize=(12,5))"
   ]
  },
  {
   "cell_type": "markdown",
   "id": "59f1dc29",
   "metadata": {},
   "source": [
    "## Split data"
   ]
  },
  {
   "cell_type": "code",
   "execution_count": 18,
   "id": "4fcadc90",
   "metadata": {},
   "outputs": [
    {
     "name": "stdout",
     "output_type": "stream",
     "text": [
      "892 224\n"
     ]
    }
   ],
   "source": [
    "train_size = int(len(df)*0.8)\n",
    "test_size = len(df) - train_size\n",
    "train, test = df.iloc[0:train_size], df.iloc[train_size:len(df)]\n",
    "print(len(train), len(test))"
   ]
  },
  {
   "cell_type": "code",
   "execution_count": 19,
   "id": "23f3fa14",
   "metadata": {},
   "outputs": [
    {
     "name": "stderr",
     "output_type": "stream",
     "text": [
      "C:\\Users\\shahi\\anaconda3\\lib\\site-packages\\pandas\\core\\indexing.py:1637: SettingWithCopyWarning: \n",
      "A value is trying to be set on a copy of a slice from a DataFrame\n",
      "\n",
      "See the caveats in the documentation: https://pandas.pydata.org/pandas-docs/stable/user_guide/indexing.html#returning-a-view-versus-a-copy\n",
      "  self._setitem_single_block(indexer, value, name)\n",
      "C:\\Users\\shahi\\anaconda3\\lib\\site-packages\\pandas\\core\\indexing.py:692: SettingWithCopyWarning: \n",
      "A value is trying to be set on a copy of a slice from a DataFrame\n",
      "\n",
      "See the caveats in the documentation: https://pandas.pydata.org/pandas-docs/stable/user_guide/indexing.html#returning-a-view-versus-a-copy\n",
      "  iloc._setitem_with_indexer(indexer, value, self.name)\n",
      "C:\\Users\\shahi\\AppData\\Local\\Temp/ipykernel_4700/1363298168.py:13: SettingWithCopyWarning: \n",
      "A value is trying to be set on a copy of a slice from a DataFrame.\n",
      "Try using .loc[row_indexer,col_indexer] = value instead\n",
      "\n",
      "See the caveats in the documentation: https://pandas.pydata.org/pandas-docs/stable/user_guide/indexing.html#returning-a-view-versus-a-copy\n",
      "  train[grid_main] = internet_transformer.transform(train[[grid_main]])\n",
      "C:\\Users\\shahi\\anaconda3\\lib\\site-packages\\pandas\\core\\indexing.py:1637: SettingWithCopyWarning: \n",
      "A value is trying to be set on a copy of a slice from a DataFrame\n",
      "\n",
      "See the caveats in the documentation: https://pandas.pydata.org/pandas-docs/stable/user_guide/indexing.html#returning-a-view-versus-a-copy\n",
      "  self._setitem_single_block(indexer, value, name)\n",
      "C:\\Users\\shahi\\anaconda3\\lib\\site-packages\\pandas\\core\\indexing.py:692: SettingWithCopyWarning: \n",
      "A value is trying to be set on a copy of a slice from a DataFrame\n",
      "\n",
      "See the caveats in the documentation: https://pandas.pydata.org/pandas-docs/stable/user_guide/indexing.html#returning-a-view-versus-a-copy\n",
      "  iloc._setitem_with_indexer(indexer, value, self.name)\n",
      "C:\\Users\\shahi\\AppData\\Local\\Temp/ipykernel_4700/1363298168.py:16: SettingWithCopyWarning: \n",
      "A value is trying to be set on a copy of a slice from a DataFrame.\n",
      "Try using .loc[row_indexer,col_indexer] = value instead\n",
      "\n",
      "See the caveats in the documentation: https://pandas.pydata.org/pandas-docs/stable/user_guide/indexing.html#returning-a-view-versus-a-copy\n",
      "  test[grid_main] = internet_transformer.transform(test[[grid_main]])\n"
     ]
    }
   ],
   "source": [
    "# Features\n",
    "if grid_main in grid_neighbours: grid_neighbours.remove(grid_main)\n",
    "    \n",
    "f_columns = grid_neighbours\n",
    "\n",
    "f_transformer = RobustScaler()\n",
    "internet_transformer = RobustScaler()\n",
    "\n",
    "f_transformer = f_transformer.fit(train[f_columns].to_numpy())\n",
    "internet_transformer = internet_transformer.fit(train[[grid_main]])\n",
    "\n",
    "train.loc[:, f_columns] = f_transformer.transform(train[f_columns].to_numpy())\n",
    "train[grid_main] = internet_transformer.transform(train[[grid_main]])\n",
    "\n",
    "test.loc[:, f_columns] = f_transformer.transform(test[f_columns].to_numpy())\n",
    "test[grid_main] = internet_transformer.transform(test[[grid_main]])"
   ]
  },
  {
   "cell_type": "code",
   "execution_count": 20,
   "id": "71390536",
   "metadata": {},
   "outputs": [],
   "source": [
    "def create_dataset(X, y, time_steps=1):\n",
    "    Xs, ys = [], []\n",
    "    for i in range(len(X) - time_steps):\n",
    "        v = X.iloc[i: (i + time_steps)].values\n",
    "        Xs.append(v)\n",
    "        ys.append(y.iloc[i + time_steps])\n",
    "    return np.array(Xs), np.array(ys)"
   ]
  },
  {
   "cell_type": "code",
   "execution_count": 21,
   "id": "8c6f494d",
   "metadata": {},
   "outputs": [
    {
     "name": "stdout",
     "output_type": "stream",
     "text": [
      "(886, 6, 49) (886,)\n"
     ]
    }
   ],
   "source": [
    "# The number of past values considered in the LSTM\n",
    "time_steps = 6\n",
    "\n",
    "# reshape to [samples, time_steps, n_features]\n",
    "X_train, y_train = create_dataset(train, train[grid_main], time_steps)\n",
    "X_test, y_test = create_dataset(test, test[grid_main], time_steps)\n",
    "\n",
    "print(X_train.shape, y_train.shape)"
   ]
  },
  {
   "cell_type": "markdown",
   "id": "efd2a375",
   "metadata": {},
   "source": [
    "## Keras Model"
   ]
  },
  {
   "cell_type": "code",
   "execution_count": 22,
   "id": "13b58c6c",
   "metadata": {},
   "outputs": [],
   "source": [
    "model = Sequential()\n",
    "model.add(LSTM(50, activation='relu', input_shape=(X_train.shape[1], X_train.shape[2])))\n",
    "model.add(Dense(1))\n",
    "model.compile(optimizer='adam', loss='mse')"
   ]
  },
  {
   "cell_type": "code",
   "execution_count": 23,
   "id": "90e26b27",
   "metadata": {},
   "outputs": [
    {
     "name": "stdout",
     "output_type": "stream",
     "text": [
      "Model: \"sequential\"\n",
      "_________________________________________________________________\n",
      "Layer (type)                 Output Shape              Param #   \n",
      "=================================================================\n",
      "lstm (LSTM)                  (None, 50)                20000     \n",
      "_________________________________________________________________\n",
      "dense (Dense)                (None, 1)                 51        \n",
      "=================================================================\n",
      "Total params: 20,051\n",
      "Trainable params: 20,051\n",
      "Non-trainable params: 0\n",
      "_________________________________________________________________\n"
     ]
    }
   ],
   "source": [
    "model.summary()"
   ]
  },
  {
   "cell_type": "code",
   "execution_count": 24,
   "id": "31c277ee",
   "metadata": {
    "scrolled": false
   },
   "outputs": [
    {
     "name": "stdout",
     "output_type": "stream",
     "text": [
      "Epoch 1/20\n",
      "25/25 [==============================] - 0s 9ms/step - loss: 0.2309 - val_loss: 0.1568\n",
      "Epoch 2/20\n",
      "25/25 [==============================] - 0s 2ms/step - loss: 0.1566 - val_loss: 0.1755\n",
      "Epoch 3/20\n",
      "25/25 [==============================] - 0s 2ms/step - loss: 0.1477 - val_loss: 0.1596\n",
      "Epoch 4/20\n",
      "25/25 [==============================] - 0s 2ms/step - loss: 0.1728 - val_loss: 0.1559\n",
      "Epoch 5/20\n",
      "25/25 [==============================] - 0s 2ms/step - loss: 0.1391 - val_loss: 0.1341\n",
      "Epoch 6/20\n",
      "25/25 [==============================] - 0s 2ms/step - loss: 0.1582 - val_loss: 0.2132\n",
      "Epoch 7/20\n",
      "25/25 [==============================] - 0s 2ms/step - loss: 0.1270 - val_loss: 0.1494\n",
      "Epoch 8/20\n",
      "25/25 [==============================] - 0s 2ms/step - loss: 0.1215 - val_loss: 0.1454\n",
      "Epoch 9/20\n",
      "25/25 [==============================] - 0s 2ms/step - loss: 0.1166 - val_loss: 0.1397\n",
      "Epoch 10/20\n",
      "25/25 [==============================] - 0s 2ms/step - loss: 0.1149 - val_loss: 0.1355\n",
      "Epoch 11/20\n",
      "25/25 [==============================] - 0s 2ms/step - loss: 0.1190 - val_loss: 0.1348\n",
      "Epoch 12/20\n",
      "25/25 [==============================] - 0s 2ms/step - loss: 0.1172 - val_loss: 0.1527\n",
      "Epoch 13/20\n",
      "25/25 [==============================] - 0s 2ms/step - loss: 0.1051 - val_loss: 0.1425\n",
      "Epoch 14/20\n",
      "25/25 [==============================] - 0s 2ms/step - loss: 0.1285 - val_loss: 0.1290\n",
      "Epoch 15/20\n",
      "25/25 [==============================] - 0s 2ms/step - loss: 0.1263 - val_loss: 0.1768\n",
      "Epoch 16/20\n",
      "25/25 [==============================] - 0s 2ms/step - loss: 0.1234 - val_loss: 0.1692\n",
      "Epoch 17/20\n",
      "25/25 [==============================] - 0s 2ms/step - loss: 0.1044 - val_loss: 0.1522\n",
      "Epoch 18/20\n",
      "25/25 [==============================] - 0s 2ms/step - loss: 0.0975 - val_loss: 0.1401\n",
      "Epoch 19/20\n",
      "25/25 [==============================] - 0s 2ms/step - loss: 0.0950 - val_loss: 0.1415\n",
      "Epoch 20/20\n",
      "25/25 [==============================] - 0s 2ms/step - loss: 0.0921 - val_loss: 0.1427\n"
     ]
    }
   ],
   "source": [
    "history = model.fit(X_train, y_train, epochs=20, batch_size=32, validation_split=0.1, shuffle=False)"
   ]
  },
  {
   "cell_type": "code",
   "execution_count": 25,
   "id": "5da63d00",
   "metadata": {},
   "outputs": [
    {
     "data": {
      "image/png": "[encoded data removed]",
      "text/plain": [
       "<Figure size 432x288 with 1 Axes>"
      ]
     },
     "metadata": {
      "needs_background": "light"
     },
     "output_type": "display_data"
    }
   ],
   "source": [
    "plt.plot(history.history['loss'], label='train')\n",
    "plt.plot(history.history['val_loss'], label='test')\n",
    "plt.legend();"
   ]
  },
  {
   "cell_type": "markdown",
   "id": "b10df67d",
   "metadata": {},
   "source": [
    "## Predictions"
   ]
  },
  {
   "cell_type": "code",
   "execution_count": 26,
   "id": "0ced269f",
   "metadata": {},
   "outputs": [],
   "source": [
    "y_pred = model.predict(X_test)"
   ]
  },
  {
   "cell_type": "code",
   "execution_count": 27,
   "id": "39748ef9",
   "metadata": {},
   "outputs": [],
   "source": [
    "y_train_inv = internet_transformer.inverse_transform(y_train.reshape(1, -1))\n",
    "y_test_inv = internet_transformer.inverse_transform(y_test.reshape(1, -1))\n",
    "y_pred_inv = internet_transformer.inverse_transform(y_pred)"
   ]
  },
  {
   "cell_type": "code",
   "execution_count": 28,
   "id": "68288042",
   "metadata": {},
   "outputs": [
    {
     "data": {
      "image/png": "[encoded data removed]",
      "text/plain": [
       "<Figure size 432x288 with 1 Axes>"
      ]
     },
     "metadata": {
      "needs_background": "light"
     },
     "output_type": "display_data"
    }
   ],
   "source": [
    "plt.plot(np.arange(0, len(y_train)), y_train_inv.flatten(), 'g', label=\"history\")\n",
    "plt.plot(np.arange(len(y_train), len(y_train) + len(y_test)), y_test_inv.flatten(), marker='.', label=\"true\")\n",
    "plt.plot(np.arange(len(y_train), len(y_train) + len(y_test)), y_pred_inv.flatten(), 'r', label=\"prediction\")\n",
    "plt.ylabel('Internet Activity')\n",
    "plt.xlabel('Time Step')\n",
    "plt.legend()\n",
    "plt.show();"
   ]
  },
  {
   "cell_type": "code",
   "execution_count": 29,
   "id": "5a2af90d",
   "metadata": {},
   "outputs": [
    {
     "data": {
      "image/png": "[encoded data removed]",
      "text/plain": [
       "<Figure size 432x288 with 1 Axes>"
      ]
     },
     "metadata": {
      "needs_background": "light"
     },
     "output_type": "display_data"
    }
   ],
   "source": [
    "plt.plot(y_test_inv.flatten(), marker='.', label=\"true\")\n",
    "plt.plot(y_pred_inv.flatten(), 'r', label=\"prediction\")\n",
    "plt.ylabel('Internet Activity')\n",
    "plt.xlabel('Time Step')\n",
    "plt.legend()\n",
    "plt.show();"
   ]
  },
  {
   "cell_type": "code",
   "execution_count": 30,
   "id": "64f8602e",
   "metadata": {},
   "outputs": [
    {
     "name": "stdout",
     "output_type": "stream",
     "text": [
      "83.19240623204601\n"
     ]
    }
   ],
   "source": [
    "rmse = sqrt(mean_squared_error(y_test_inv.flatten(), y_pred_inv.flatten()))\n",
    "print(rmse)"
   ]
  },
  {
   "cell_type": "markdown",
   "id": "85bb3a84",
   "metadata": {},
   "source": [
    "## Save data to folder"
   ]
  },
  {
   "cell_type": "code",
   "execution_count": 31,
   "id": "b45b79d4",
   "metadata": {},
   "outputs": [],
   "source": [
    "# PREDICTIONS\n",
    "\n",
    "# Convert predictions to numpy array\n",
    "arr = np.array(y_pred_inv.flatten())\n",
    "\n",
    "# Change name to describe experiment: SPATIOLSTM_<data_length[100,50,12]>_<grid_x>_<grid_y>_<radius>\n",
    "# ----------------------------------------\n",
    "filename = \"SPATIOLSTM_12_50_50_3.npy\"\n",
    "# ----------------------------------------\n",
    "\n",
    "folder_name = \"../results/SPATIOLSTM/predictions\"\n",
    "f = os.path.join(folder_name, filename)\n",
    "np.save(f, arr)\n",
    "\n",
    "# MODEL HISTORY\n",
    "\n",
    "# Change name to describe experiment: SPATIOLSTM_HISTORY_<data_length[100,50,12]>_<grid_x>_<grid_y>_<radius>\n",
    "# ----------------------------------------\n",
    "filename = \"SPATIOLSTM_HISTORY_12_50_50_3.npy\"\n",
    "# ----------------------------------------\n",
    "\n",
    "folder_name = \"../results/SPATIOLSTM/training\"\n",
    "f = os.path.join(folder_name, filename)\n",
    "np.save(f,history.history)"
   ]
  },
  {
   "cell_type": "code",
   "execution_count": null,
   "id": "ff1074d6",
   "metadata": {},
   "outputs": [],
   "source": []
  }
 ],
 "metadata": {
  "kernelspec": {
   "display_name": "Python 3 (ipykernel)",
   "language": "python",
   "name": "python3"
  },
  "language_info": {
   "codemirror_mode": {
    "name": "ipython",
    "version": 3
   },
   "file_extension": ".py",
   "mimetype": "text/x-python",
   "name": "python",
   "nbconvert_exporter": "python",
   "pygments_lexer": "ipython3",
   "version": "3.8.8"
  }
 },
 "nbformat": 4,
 "nbformat_minor": 5
}
