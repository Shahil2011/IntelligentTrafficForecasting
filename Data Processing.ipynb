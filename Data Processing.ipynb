{
 "cells": [
  {
   "cell_type": "markdown",
   "id": "3d76852b",
   "metadata": {},
   "source": [
    "## Imports"
   ]
  },
  {
   "cell_type": "code",
   "execution_count": 1,
   "id": "19b3cfd7",
   "metadata": {},
   "outputs": [],
   "source": [
    "import pandas as pd\n",
    "import numpy as np\n",
    "import matplotlib.pyplot as plt\n",
    "import warnings\n",
    "from sklearn.metrics import mean_squared_error\n",
    "from math import sqrt\n",
    "import glob\n",
    "import os\n",
    "from sklearn.preprocessing import MinMaxScaler\n",
    "from sklearn.preprocessing import RobustScaler\n",
    "from tensorflow.keras.models import Sequential\n",
    "from tensorflow.keras.layers import Dense\n",
    "from tensorflow.keras.layers import LSTM\n",
    "from sklearn.model_selection import train_test_split\n",
    "from pandas.plotting import register_matplotlib_converters\n",
    "from tensorflow import keras"
   ]
  },
  {
   "cell_type": "markdown",
   "id": "8b2d10f2",
   "metadata": {},
   "source": [
    "## Read data from files, pickle them seperately"
   ]
  },
  {
   "cell_type": "code",
   "execution_count": null,
   "id": "c1848688",
   "metadata": {},
   "outputs": [],
   "source": [
    "# Change the path to a seperate month, if you want to pickle the data a month at a time\n",
    "joined_files = os.path.join(\"../data_raw\", \"sms-call-internet-mi*.txt\")\n",
    "joined_list = glob.glob(joined_files)\n",
    "\n",
    "dfs = []\n",
    "for f in joined_list:\n",
    "    dfs.append(pd.read_csv(f, sep='\\t',header=None, usecols=[0, 1, 7], names=[\"SquareId\", \"TimeInterval\", \"InternetActivity\"]))\n",
    "    dfs[-1] = dfs[-1].dropna()\n",
    "df_big = pd.concat(dfs, ignore_index=True)\n",
    "\n",
    "# prefix 'big' for full dataset of all grids, 01 for november 2013\n",
    "df_big.to_pickle(\"../data_pickles/big_02.pkl\")\n",
    "\n",
    "print(len(df_big))\n",
    "df_big.head(20)"
   ]
  },
  {
   "cell_type": "markdown",
   "id": "a2fa72de",
   "metadata": {},
   "source": [
    "## Grab specific grid data - old method"
   ]
  },
  {
   "cell_type": "code",
   "execution_count": null,
   "id": "8ab254b7",
   "metadata": {},
   "outputs": [],
   "source": [
    "# Read from big_[month starting from 01 - november 2013].pkl\n",
    "df_big = pd.read_pickle(\"../data_pickles/big_01.pkl\")\n",
    "\n",
    "df = df_big[df_big['SquareId'] == 1]\n",
    "df = df.sort_values(by='TimeInterval')\n",
    "df = df.drop('SquareId', axis=1)\n",
    "df = df.groupby('TimeInterval').sum()\n",
    "#df.set_index('TimeInterval', inplace=True)\n",
    "df.index = pd.to_datetime(df.index, unit='ms')\n",
    "\n",
    "df.to_pickle(\"../data_pickles/grid1_02.pkl\")\n",
    "\n",
    "print(df.shape)\n",
    "df.head(20)"
   ]
  },
  {
   "cell_type": "markdown",
   "id": "ce82a0bd",
   "metadata": {},
   "source": [
    "## Concat data"
   ]
  },
  {
   "cell_type": "code",
   "execution_count": null,
   "id": "8f7ecf2f",
   "metadata": {},
   "outputs": [],
   "source": [
    "df_01 = pd.read_pickle(\"../data_pickles/big_01.pkl\")\n",
    "df_02 = pd.read_pickle(\"../data_pickles/big_02.pkl\")\n",
    "\n",
    "df_all = pd.concat([df_01, df_02], ignore_index=True)\n",
    "\n",
    "print(len(df_all))\n",
    "df_all.head(20)"
   ]
  },
  {
   "cell_type": "code",
   "execution_count": null,
   "id": "348c303c",
   "metadata": {},
   "outputs": [],
   "source": [
    "df_all.to_pickle(\"../data_pickles/all.pkl\")"
   ]
  },
  {
   "cell_type": "markdown",
   "id": "8c00fad3",
   "metadata": {},
   "source": [
    "## Grab Specific data (new)"
   ]
  },
  {
   "cell_type": "code",
   "execution_count": 4,
   "id": "16d90e97",
   "metadata": {},
   "outputs": [],
   "source": [
    "# Returns index value of grid based on (row, col) numbers specified\n",
    "def get_grid_id(row_loc, col_loc):\n",
    "    \n",
    "    num_rows = 100\n",
    "    num_cols = 100\n",
    "    return (num_rows - row_loc - 1)*100 + col_loc + 1"
   ]
  },
  {
   "cell_type": "code",
   "execution_count": 6,
   "id": "028068d4",
   "metadata": {},
   "outputs": [
    {
     "name": "stdout",
     "output_type": "stream",
     "text": [
      "(8928, 1)\n"
     ]
    },
    {
     "data": {
      "text/html": [
       "<div>\n",
       "<style scoped>\n",
       "    .dataframe tbody tr th:only-of-type {\n",
       "        vertical-align: middle;\n",
       "    }\n",
       "\n",
       "    .dataframe tbody tr th {\n",
       "        vertical-align: top;\n",
       "    }\n",
       "\n",
       "    .dataframe thead th {\n",
       "        text-align: right;\n",
       "    }\n",
       "</style>\n",
       "<table border=\"1\" class=\"dataframe\">\n",
       "  <thead>\n",
       "    <tr style=\"text-align: right;\">\n",
       "      <th></th>\n",
       "      <th>InternetActivity</th>\n",
       "    </tr>\n",
       "    <tr>\n",
       "      <th>TimeInterval</th>\n",
       "      <th></th>\n",
       "    </tr>\n",
       "  </thead>\n",
       "  <tbody>\n",
       "    <tr>\n",
       "      <th>2013-10-31 23:00:00</th>\n",
       "      <td>11.028366</td>\n",
       "    </tr>\n",
       "    <tr>\n",
       "      <th>2013-10-31 23:10:00</th>\n",
       "      <td>11.127101</td>\n",
       "    </tr>\n",
       "    <tr>\n",
       "      <th>2013-10-31 23:20:00</th>\n",
       "      <td>10.892771</td>\n",
       "    </tr>\n",
       "    <tr>\n",
       "      <th>2013-10-31 23:30:00</th>\n",
       "      <td>8.622425</td>\n",
       "    </tr>\n",
       "    <tr>\n",
       "      <th>2013-10-31 23:40:00</th>\n",
       "      <td>8.009927</td>\n",
       "    </tr>\n",
       "    <tr>\n",
       "      <th>2013-10-31 23:50:00</th>\n",
       "      <td>8.118420</td>\n",
       "    </tr>\n",
       "    <tr>\n",
       "      <th>2013-11-01 00:00:00</th>\n",
       "      <td>8.026270</td>\n",
       "    </tr>\n",
       "    <tr>\n",
       "      <th>2013-11-01 00:10:00</th>\n",
       "      <td>8.514179</td>\n",
       "    </tr>\n",
       "    <tr>\n",
       "      <th>2013-11-01 00:20:00</th>\n",
       "      <td>6.833425</td>\n",
       "    </tr>\n",
       "    <tr>\n",
       "      <th>2013-11-01 00:30:00</th>\n",
       "      <td>6.554605</td>\n",
       "    </tr>\n",
       "    <tr>\n",
       "      <th>2013-11-01 00:40:00</th>\n",
       "      <td>7.338716</td>\n",
       "    </tr>\n",
       "    <tr>\n",
       "      <th>2013-11-01 00:50:00</th>\n",
       "      <td>6.779705</td>\n",
       "    </tr>\n",
       "    <tr>\n",
       "      <th>2013-11-01 01:00:00</th>\n",
       "      <td>7.192162</td>\n",
       "    </tr>\n",
       "    <tr>\n",
       "      <th>2013-11-01 01:10:00</th>\n",
       "      <td>7.503314</td>\n",
       "    </tr>\n",
       "    <tr>\n",
       "      <th>2013-11-01 01:20:00</th>\n",
       "      <td>6.169534</td>\n",
       "    </tr>\n",
       "    <tr>\n",
       "      <th>2013-11-01 01:30:00</th>\n",
       "      <td>7.605452</td>\n",
       "    </tr>\n",
       "    <tr>\n",
       "      <th>2013-11-01 01:40:00</th>\n",
       "      <td>6.596866</td>\n",
       "    </tr>\n",
       "    <tr>\n",
       "      <th>2013-11-01 01:50:00</th>\n",
       "      <td>6.139822</td>\n",
       "    </tr>\n",
       "    <tr>\n",
       "      <th>2013-11-01 02:00:00</th>\n",
       "      <td>6.027584</td>\n",
       "    </tr>\n",
       "    <tr>\n",
       "      <th>2013-11-01 02:10:00</th>\n",
       "      <td>5.686304</td>\n",
       "    </tr>\n",
       "  </tbody>\n",
       "</table>\n",
       "</div>"
      ],
      "text/plain": [
       "                     InternetActivity\n",
       "TimeInterval                         \n",
       "2013-10-31 23:00:00         11.028366\n",
       "2013-10-31 23:10:00         11.127101\n",
       "2013-10-31 23:20:00         10.892771\n",
       "2013-10-31 23:30:00          8.622425\n",
       "2013-10-31 23:40:00          8.009927\n",
       "2013-10-31 23:50:00          8.118420\n",
       "2013-11-01 00:00:00          8.026270\n",
       "2013-11-01 00:10:00          8.514179\n",
       "2013-11-01 00:20:00          6.833425\n",
       "2013-11-01 00:30:00          6.554605\n",
       "2013-11-01 00:40:00          7.338716\n",
       "2013-11-01 00:50:00          6.779705\n",
       "2013-11-01 01:00:00          7.192162\n",
       "2013-11-01 01:10:00          7.503314\n",
       "2013-11-01 01:20:00          6.169534\n",
       "2013-11-01 01:30:00          7.605452\n",
       "2013-11-01 01:40:00          6.596866\n",
       "2013-11-01 01:50:00          6.139822\n",
       "2013-11-01 02:00:00          6.027584\n",
       "2013-11-01 02:10:00          5.686304"
      ]
     },
     "execution_count": 6,
     "metadata": {},
     "output_type": "execute_result"
    }
   ],
   "source": [
    "# Pickle all for square 1\n",
    "df_all = pd.read_pickle(\"../data_pickles/all.pkl\")\n",
    "\n",
    "grid_val = get_grid_id(70,80)\n",
    "df = df_all[df_all['SquareId'] == grid_val]\n",
    "\n",
    "#df = df_all[df_all['SquareId'] == 1]\n",
    "df = df.sort_values(by='TimeInterval')\n",
    "df = df.drop('SquareId', axis=1)\n",
    "df = df.groupby('TimeInterval').sum()\n",
    "#df.set_index('TimeInterval', inplace=True)\n",
    "df.index = pd.to_datetime(df.index, unit='ms')\n",
    "\n",
    "print(df.shape)\n",
    "df.head(20)"
   ]
  },
  {
   "cell_type": "code",
   "execution_count": null,
   "id": "6c060429",
   "metadata": {},
   "outputs": [],
   "source": [
    "print(df['InternetActivity'].mean())\n",
    "df['InternetActivity'].plot(figsize=(12,5));"
   ]
  },
  {
   "cell_type": "code",
   "execution_count": null,
   "id": "abd8046a",
   "metadata": {},
   "outputs": [],
   "source": [
    "# Save as grid<x>_<y>_<all>.pkl\n",
    "df.to_pickle(\"../data_pickles/grid70_80_all.pkl\")"
   ]
  },
  {
   "cell_type": "code",
   "execution_count": null,
   "id": "fa361ba0",
   "metadata": {},
   "outputs": [],
   "source": []
  }
 ],
 "metadata": {
  "kernelspec": {
   "display_name": "Python 3 (ipykernel)",
   "language": "python",
   "name": "python3"
  },
  "language_info": {
   "codemirror_mode": {
    "name": "ipython",
    "version": 3
   },
   "file_extension": ".py",
   "mimetype": "text/x-python",
   "name": "python",
   "nbconvert_exporter": "python",
   "pygments_lexer": "ipython3",
   "version": "3.8.8"
  }
 },
 "nbformat": 4,
 "nbformat_minor": 5
}
